{
 "cells": [
  {
   "cell_type": "code",
   "execution_count": 38,
   "metadata": {},
   "outputs": [
    {
     "name": "stdout",
     "output_type": "stream",
     "text": [
      "{'id': 75432, 'word': 'agree', 'sw': 'agree', 'phonetic': \"ә'gri:\", 'definition': 'v. be in accord; be in agreement\\nv. consent or assent to a condition, or agree to do something\\nv. show grammatical agreement\\nv. be agreeable or suitable', 'translation': 'vi. 同意, 赞成, 应允, 适合\\nvt. 承认, 认定, 同意', 'pos': 'v:100', 'collins': 5, 'oxford': 1, 'tag': 'zk gk', 'bnc': 401, 'frq': 514, 'exchange': 'd:agreed/p:agreed/3:agrees/i:agreeing', 'detail': None, 'audio': ''}\n"
     ]
    },
    {
     "data": {
      "text/html": [
       "<div>\n",
       "<style scoped>\n",
       "    .dataframe tbody tr th:only-of-type {\n",
       "        vertical-align: middle;\n",
       "    }\n",
       "\n",
       "    .dataframe tbody tr th {\n",
       "        vertical-align: top;\n",
       "    }\n",
       "\n",
       "    .dataframe thead th {\n",
       "        text-align: right;\n",
       "    }\n",
       "</style>\n",
       "<table border=\"1\" class=\"dataframe\">\n",
       "  <thead>\n",
       "    <tr style=\"text-align: right;\">\n",
       "      <th></th>\n",
       "      <th>word</th>\n",
       "      <th>collins</th>\n",
       "      <th>phonetic</th>\n",
       "      <th>definition</th>\n",
       "      <th>translation</th>\n",
       "      <th>exchange</th>\n",
       "    </tr>\n",
       "  </thead>\n",
       "  <tbody>\n",
       "    <tr>\n",
       "      <th>0</th>\n",
       "      <td>aback</td>\n",
       "      <td>1.0</td>\n",
       "      <td>ә'bæk</td>\n",
       "      <td>r. having the wind against the forward side of...</td>\n",
       "      <td>adv. 向后, 朝后, 突然, 船顶风地</td>\n",
       "      <td></td>\n",
       "    </tr>\n",
       "    <tr>\n",
       "      <th>1</th>\n",
       "      <td>abate</td>\n",
       "      <td>1.0</td>\n",
       "      <td>ә'beit</td>\n",
       "      <td>v. become less in amount or intensity</td>\n",
       "      <td>vt. 减少, 减轻, 减弱, 废除, 打折扣;vi. 减轻, 减弱, 减少, 失效, 被废除</td>\n",
       "      <td>d:abated/i:abating/p:abated/3:abates/s:abates</td>\n",
       "    </tr>\n",
       "    <tr>\n",
       "      <th>2</th>\n",
       "      <td>abdomen</td>\n",
       "      <td>1.0</td>\n",
       "      <td>'æbdәmen</td>\n",
       "      <td>n. the region of the body of a vertebrate betw...</td>\n",
       "      <td>n. 腹部;[医] 腹[部]</td>\n",
       "      <td>s:abdomens</td>\n",
       "    </tr>\n",
       "    <tr>\n",
       "      <th>3</th>\n",
       "      <td>abduct</td>\n",
       "      <td>1.0</td>\n",
       "      <td>æb'dʌkt</td>\n",
       "      <td>v. pull away from the body</td>\n",
       "      <td>vt. 诱拐, 绑架, 使外展;[医] 外展, 展</td>\n",
       "      <td>d:abducted/p:abducted/i:abducting/3:abducts/s:...</td>\n",
       "    </tr>\n",
       "    <tr>\n",
       "      <th>4</th>\n",
       "      <td>aberration</td>\n",
       "      <td>1.0</td>\n",
       "      <td>æbә'reiʃәn</td>\n",
       "      <td>n. a disorder in one's mental state;n. an opti...</td>\n",
       "      <td>n. 离开正路, 偏离, 畸变, 光行差, 心理失常, 色差;[化] 光行差; 像差</td>\n",
       "      <td>s:aberrations</td>\n",
       "    </tr>\n",
       "  </tbody>\n",
       "</table>\n",
       "</div>"
      ],
      "text/plain": [
       "         word  collins    phonetic  \\\n",
       "0       aback      1.0       ә'bæk   \n",
       "1       abate      1.0      ә'beit   \n",
       "2     abdomen      1.0    'æbdәmen   \n",
       "3      abduct      1.0     æb'dʌkt   \n",
       "4  aberration      1.0  æbә'reiʃәn   \n",
       "\n",
       "                                          definition  \\\n",
       "0  r. having the wind against the forward side of...   \n",
       "1              v. become less in amount or intensity   \n",
       "2  n. the region of the body of a vertebrate betw...   \n",
       "3                         v. pull away from the body   \n",
       "4  n. a disorder in one's mental state;n. an opti...   \n",
       "\n",
       "                                       translation  \\\n",
       "0                            adv. 向后, 朝后, 突然, 船顶风地   \n",
       "1  vt. 减少, 减轻, 减弱, 废除, 打折扣;vi. 减轻, 减弱, 减少, 失效, 被废除   \n",
       "2                                   n. 腹部;[医] 腹[部]   \n",
       "3                        vt. 诱拐, 绑架, 使外展;[医] 外展, 展   \n",
       "4       n. 离开正路, 偏离, 畸变, 光行差, 心理失常, 色差;[化] 光行差; 像差   \n",
       "\n",
       "                                            exchange  \n",
       "0                                                     \n",
       "1      d:abated/i:abating/p:abated/3:abates/s:abates  \n",
       "2                                         s:abdomens  \n",
       "3  d:abducted/p:abducted/i:abducting/3:abducts/s:...  \n",
       "4                                      s:aberrations  "
      ]
     },
     "execution_count": 38,
     "metadata": {},
     "output_type": "execute_result"
    }
   ],
   "source": [
    "from stardict import open_dict\n",
    "import pandas as pd\n",
    "\n",
    "df = pd.read_csv(\"Collins_1.csv\", header=None)\n",
    "df.columns = [\"word\"]\n",
    "df[\"collins\"] = 5\n",
    "df[\"phonetic\"] = ''\n",
    "df[\"definition\"] = ''\n",
    "df[\"translation\"] = ''\n",
    "df[\"exchange\"] = ''\n",
    "d = open_dict(\"stardict.db\")\n",
    "print(d.query(\"agree\"))\n",
    "\n",
    "for i in range(len(df)):\n",
    "    row = df.iloc[i]\n",
    "    dic = d.query(row[\"word\"])\n",
    "    if dic is not None:\n",
    "        df.at[i, \"collins\"] = dic[\"collins\"]\n",
    "        df.at[i, \"phonetic\"] = dic['phonetic'].replace(\"\\r\\n\", \";\").replace(\"\\n\", \";\")\n",
    "        df.at[i, \"definition\"] = dic['definition'].replace(\"\\r\\n\", \";\").replace(\"\\n\", \";\")\n",
    "        df.at[i, \"translation\"] = dic['translation'].replace(\"\\r\\n\", \";\").replace(\"\\n\", \";\")\n",
    "        df.at[i, \"exchange\"] = dic['exchange'].replace(\"\\r\\n\", \";\").replace(\"\\n\", \";\")\n",
    "\n",
    "df.head()"
   ]
  },
  {
   "cell_type": "code",
   "execution_count": 39,
   "metadata": {},
   "outputs": [],
   "source": [
    "df.to_csv(\"Collins_1_query.csv\", index=False)"
   ]
  },
  {
   "cell_type": "code",
   "execution_count": 21,
   "metadata": {},
   "outputs": [
    {
     "name": "stdout",
     "output_type": "stream",
     "text": [
      "v. be in accord; be in agreement;v. consent or assent to a condition, or agree to do something;v. show grammatical agreement;v. be agreeable or suitable\n"
     ]
    }
   ],
   "source": [
    "print(\"v. be in accord; be in agreement\\nv. consent or assent to a condition, or agree to do something\\nv. show grammatical agreement\\nv. be agreeable or suitable\".replace(\"\\n\", \";\"))"
   ]
  },
  {
   "attachments": {},
   "cell_type": "markdown",
   "metadata": {},
   "source": [
    "# generate anki flash cards"
   ]
  },
  {
   "cell_type": "code",
   "execution_count": 47,
   "metadata": {},
   "outputs": [],
   "source": [
    "import pandas as pd\n",
    "\n",
    "df = pd.read_csv(\"Collins_1_query.csv\")\n",
    "df = df.fillna(\"\")"
   ]
  },
  {
   "cell_type": "code",
   "execution_count": 42,
   "metadata": {},
   "outputs": [],
   "source": [
    "def convert_str(s):\n",
    "    s = s.replace(\"<\", \"[\").replace(\">\", \"]\")\n",
    "    tokens = s.split(\";\")\n",
    "    if len(tokens) > 1:\n",
    "        result = []\n",
    "        for token in tokens:\n",
    "            result.append(f\"<div>{token}</div>\")\n",
    "        return \"\".join(result)\n",
    "\n",
    "    return s\n",
    "\n",
    "\n",
    "def row_to_note(r):\n",
    "    name = r[\"word\"]\n",
    "    answer = f\"\"\"\n",
    "<h3>phonetic</h3><div>{r[\"phonetic\"]}</div>\n",
    "<h3>definition</h3><div>{convert_str(str(r[\"definition\"]))}</div>\n",
    "<h3>translation</h3><div>{convert_str(str(r[\"translation\"]))}</div>\n",
    "<h3>exchange</h3><div>{r[\"exchange\"]}</div>\n",
    "    \"\"\"\n",
    "    return [name, answer]"
   ]
  },
  {
   "cell_type": "code",
   "execution_count": 32,
   "metadata": {},
   "outputs": [
    {
     "name": "stdout",
     "output_type": "stream",
     "text": [
      "chief\n",
      "\n",
      "<h3>phonetic</h3><div>tʃi:f</div>\n",
      "<h3>definition</h3><div>s. most important element</div>\n",
      "<h3>translation</h3><div><div>n. 领袖, 酋长, 长官, 主要部分</div><div>a. 主要的, 首位的</div></div>\n",
      "<h3>exchange</h3><div>s:chiefs</div>\n",
      "    \n"
     ]
    }
   ],
   "source": [
    "r = row_to_note(df.iloc[100])\n",
    "print(r[0])\n",
    "print(r[1])"
   ]
  },
  {
   "cell_type": "code",
   "execution_count": 48,
   "metadata": {},
   "outputs": [],
   "source": [
    "import random\n",
    "import genanki\n",
    "\n",
    "deck_id = random.randrange(1 << 30, 1 << 31)\n",
    "model_id = random.randrange(1 << 30, 1 << 31)\n",
    "\n",
    "my_deck = genanki.Deck(deck_id, \"Collins 1\")\n",
    "my_model = genanki.Model(\n",
    "    model_id,\n",
    "    'Simple Model',\n",
    "    fields=[\n",
    "        {'name': 'Question'},\n",
    "        {'name': 'Answer'},\n",
    "    ],\n",
    "    templates=[\n",
    "    {\n",
    "        'name': 'Card 1',\n",
    "        'qfmt': '{{Question}}',\n",
    "        'afmt': '{{FrontSide}}<hr id=\"answer\">{{Answer}}',\n",
    "    },\n",
    "    ]\n",
    ")\n",
    "\n",
    "for i in range(len(df)):\n",
    "    row = df.iloc[i]\n",
    "    record = row_to_note(row)\n",
    "    note = genanki.Note(model=my_model, fields=record)\n",
    "    my_deck.add_note(note)\n",
    "\n",
    "genanki.Package(my_deck).write_to_file('Collins_1.apkg')"
   ]
  }
 ],
 "metadata": {
  "kernelspec": {
   "display_name": "py39",
   "language": "python",
   "name": "python3"
  },
  "language_info": {
   "codemirror_mode": {
    "name": "ipython",
    "version": 3
   },
   "file_extension": ".py",
   "mimetype": "text/x-python",
   "name": "python",
   "nbconvert_exporter": "python",
   "pygments_lexer": "ipython3",
   "version": "3.9.7"
  },
  "orig_nbformat": 4,
  "vscode": {
   "interpreter": {
    "hash": "9599e80ef5032cb9b87bb7c40eb068985babe7e8bc8c4216612da36441f484a2"
   }
  }
 },
 "nbformat": 4,
 "nbformat_minor": 2
}
